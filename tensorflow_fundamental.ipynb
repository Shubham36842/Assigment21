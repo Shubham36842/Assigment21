{
  "nbformat": 4,
  "nbformat_minor": 0,
  "metadata": {
    "colab": {
      "provenance": []
    },
    "kernelspec": {
      "name": "python3",
      "display_name": "Python 3"
    },
    "language_info": {
      "name": "python"
    }
  },
  "cells": [
    {
      "cell_type": "markdown",
      "source": [
        "Part 1: Theoretical Questions\n",
        "\n",
        "1.What are the different data structures used in Tensorflow?. Give some examples\n",
        "How does the TensorFlow constant differ from a TensorFlow variable? Explain with an example?\n",
        "\n",
        "2.Describe the process of matrix addition, multiplication, and element-wise operations in TensorFlow."
      ],
      "metadata": {
        "id": "EtWPw1fV3qPR"
      }
    },
    {
      "cell_type": "markdown",
      "source": [
        "Ans(1)\n",
        "\n",
        "TensorFlow, a popular open-source machine learning library developed by the Google Brain team, various data structures are used to represent and manipulate data. Some of the key data structures include:\n",
        "\n",
        "Tensor:\n",
        "A tensor is a multi-dimensional array, a fundamental building block of TensorFlow.\n",
        "Examples: Scalars (0-D tensors), Vectors (1-D tensors), Matrices (2-D tensors), and higher-dimensional tensors.\n",
        "\n",
        "Constant:\n",
        "\n",
        "A constant is a type of tensor whose value cannot be changed after it is defined.Example-constant_tensor = tf.constant([1, 2, 3])\n",
        "\n",
        "Variable:\n",
        "\n",
        "A variable is a type of tensor that can be modified after it is defined. It is often used to represent model parameters that need to be trained.\n",
        "Example-variable_tensor = tf.Variable(initial_value)"
      ],
      "metadata": {
        "id": "z9dy4a9G4DZf"
      }
    },
    {
      "cell_type": "markdown",
      "source": [
        "Ans(2)\n",
        "\n",
        "Matrix Addition:\n",
        "\n",
        "Matrix addition is a simple operation where corresponding elements of two matrices are added together. The matrices involved in addition must have the same dimensions.\n",
        "\n",
        "Example-\n",
        "matrix_a = ([[1, 2], [3, 4])\n",
        "matrix_b = ([[5, 6], [7, 8])\n",
        "Perform matrix addition\n",
        "result_matrix =([6,8],[10,12])\n",
        "\n",
        "Matrix Multiplication:\n",
        "\n",
        "Matrix multiplication involves multiplying corresponding elements of rows and columns in two matrices. The number of columns in the first matrix must be equal to the number of rows in the second matrix.\n",
        "\n",
        "Example-\n",
        "matrix_a=([1,2],[3,4])\n",
        "matrix_b=([5,6],[7,8])\n",
        "Perform matrix multiplication:\n",
        "result_matrix=([19,22],[43,50])\n",
        "\n",
        "Element-wise Operations:\n",
        "\n",
        "Element-wise operations involve applying an operation to each corresponding element of two matrices.\n",
        "\n",
        "Example-\n",
        "matrix_a=([1,2],[3,4])\n",
        "matrix_b=([5,6],[7,8])\n",
        "Perform matrix multiplication element-wise:\n",
        "result_matrix=([6,8],[10,12])\n",
        "\n",
        "\n",
        "\n",
        "\n"
      ],
      "metadata": {
        "id": "DcmNp3oN4oBh"
      }
    },
    {
      "cell_type": "markdown",
      "source": [
        "Part 2: Practical Implementations\n",
        "\n",
        "Task 1: Creating and Manipulating Matrice\n",
        "\n",
        "1.Create a normal matrix A with dimensions 3x3, using TensorFlow's random_normal function. Display the values of matrix A\n",
        "\n",
        "2.Create a Gaussian matrix B with dimensions 4x4, using TensorFlow's truncated_normal function. Display the values of matrix B\n",
        "\n",
        "3.Create a matrix C with dimensions 2x2, where the values are drawn from a normal distribution with a mean of 3 and a standard deviation of 0.5, using TensorFlow's random.normal function. Display the values of matrix C\n",
        "\n",
        "4.Perform matrix addition between matrix A and matrix B, and store the result in matrix D\n",
        "\n",
        "5.Perform matrix multiplication between matrix C and matrix D, and store the result in matrix E."
      ],
      "metadata": {
        "id": "OtR5WCAq6hB6"
      }
    },
    {
      "cell_type": "markdown",
      "source": [
        "#Ans(1)"
      ],
      "metadata": {
        "id": "vpZPVXSX7HBs"
      }
    },
    {
      "cell_type": "code",
      "source": [
        "import tensorflow as tf\n",
        "\n",
        "# Create a 3x3 matrix with random values from a normal distribution\n",
        "matrix_A = tf.random.normal(shape=(3, 3), mean=0.0, stddev=1.0)\n",
        "\n",
        "# Display the values of matrix A\n",
        "print(matrix_A.numpy())\n"
      ],
      "metadata": {
        "colab": {
          "base_uri": "https://localhost:8080/"
        },
        "id": "1AIL25HB8RPh",
        "outputId": "b37da2fa-055c-4152-bb67-71938f6305b6"
      },
      "execution_count": 15,
      "outputs": [
        {
          "output_type": "stream",
          "name": "stdout",
          "text": [
            "[[ 1.0553259  -0.35126728  0.55783314]\n",
            " [ 0.5571943  -1.2428772   0.11134844]\n",
            " [-0.50066704  0.07111813 -0.86142576]]\n"
          ]
        }
      ]
    },
    {
      "cell_type": "markdown",
      "source": [
        "#Ans(2)"
      ],
      "metadata": {
        "id": "YiuMQbI78W2e"
      }
    },
    {
      "cell_type": "code",
      "source": [
        "# Creating a 4X4 matrix with random truncated_normal distibution\n",
        "matrix_B=tf.random.truncated_normal(shape=[4,4],mean=0.0,stddev=1.0)\n",
        "#Display the values of matrix B\n",
        "print(matrix_B.numpy)"
      ],
      "metadata": {
        "colab": {
          "base_uri": "https://localhost:8080/"
        },
        "id": "_VRuzTqG8aVm",
        "outputId": "857d17bb-21ee-41ea-c6e4-06f1566b5239"
      },
      "execution_count": 8,
      "outputs": [
        {
          "output_type": "stream",
          "name": "stdout",
          "text": [
            "<bound method _EagerTensorBase.numpy of <tf.Tensor: shape=(4, 4), dtype=float32, numpy=\n",
            "array([[-0.7128786 ,  0.21889278, -0.34138045,  0.6173753 ],\n",
            "       [ 1.0106869 , -0.5114497 , -0.21883895, -0.4079713 ],\n",
            "       [-0.619567  ,  0.1735674 ,  0.44908836, -0.19726436],\n",
            "       [-1.1837401 , -0.64588374, -0.37868172,  0.78289515]],\n",
            "      dtype=float32)>>\n"
          ]
        }
      ]
    },
    {
      "cell_type": "markdown",
      "source": [
        "#Ans(3)\n"
      ],
      "metadata": {
        "id": "SsO8r0kC9pW6"
      }
    },
    {
      "cell_type": "code",
      "source": [
        "# Create a 2X2 matrix with random values from a normal distribution with mean=3 and std=0.5\n",
        "matrix_C = tf.random.normal(shape=(2, 2), mean=3.0, stddev=0.5 )\n",
        "\n",
        "# Display the values of matrix C\n",
        "print(matrix_C.numpy())"
      ],
      "metadata": {
        "colab": {
          "base_uri": "https://localhost:8080/"
        },
        "id": "2kQR9x3C-LpT",
        "outputId": "156c30ae-1271-4e97-e231-620bf44f1cbc"
      },
      "execution_count": 14,
      "outputs": [
        {
          "output_type": "stream",
          "name": "stdout",
          "text": [
            "[[3.0706797 2.811026 ]\n",
            " [2.7319922 2.8728423]]\n"
          ]
        }
      ]
    },
    {
      "cell_type": "markdown",
      "source": [
        "#Ans(4)"
      ],
      "metadata": {
        "id": "dypkgz5C-mfq"
      }
    },
    {
      "cell_type": "code",
      "source": [
        "# Adding Matrix_A and Matrix_B\n",
        "matrix_D=tf.add(matrix_A,matrix_B)\n",
        "#printing matrix_D\n",
        "print(matrix_D.numpy)"
      ],
      "metadata": {
        "colab": {
          "base_uri": "https://localhost:8080/"
        },
        "id": "HfkUALaxAUJ-",
        "outputId": "1f768284-01d6-42ca-9cb3-6dbc1f1e51a8"
      },
      "execution_count": 23,
      "outputs": [
        {
          "output_type": "stream",
          "name": "stdout",
          "text": [
            "<bound method _EagerTensorBase.numpy of <tf.Tensor: shape=(2, 2), dtype=int32, numpy=\n",
            "array([[ 6,  8],\n",
            "       [10, 12]], dtype=int32)>>\n"
          ]
        }
      ]
    },
    {
      "cell_type": "markdown",
      "source": [
        "#Ans(5)"
      ],
      "metadata": {
        "id": "gM0GthCsAmYL"
      }
    },
    {
      "cell_type": "code",
      "source": [
        "# multiply MAtrix_C and Matrix_D\n",
        "matrix_D=tf.cast(matrix_D,dtype=tf.float32)\n",
        "matrix_E=tf.matmul(matrix_C,matrix_D)\n",
        "#printing matrix_E\n",
        "print(matrix_E.numpy)\n"
      ],
      "metadata": {
        "colab": {
          "base_uri": "https://localhost:8080/"
        },
        "id": "URr6rKMWApgP",
        "outputId": "1c7281ee-62c8-447d-e600-6b8a1d174b2c"
      },
      "execution_count": 26,
      "outputs": [
        {
          "output_type": "stream",
          "name": "stdout",
          "text": [
            "<bound method _EagerTensorBase.numpy of <tf.Tensor: shape=(2, 2), dtype=float32, numpy=\n",
            "array([[46.53434 , 58.297752],\n",
            "       [45.120377, 56.330044]], dtype=float32)>>\n"
          ]
        }
      ]
    },
    {
      "cell_type": "markdown",
      "source": [],
      "metadata": {
        "id": "0h2s6eikDyAm"
      }
    },
    {
      "cell_type": "markdown",
      "source": [
        "Task 2: Performing Additional Matrix Operations\n",
        "\n",
        "1.Create a matrix F with dimensions 3x3, initialized with random values using TensorFlow's random_uniform function\n",
        "\n",
        "2.Calculate the transpose of matrix F and store the result in matrix G\n",
        "\n",
        "3.Calculate the element-wise exponential of matrix F and store the result in matrix H\n",
        "\n",
        "4.Create a matrix I by concatenating matrix F and matrix G horizontally\n",
        "\n",
        "5.Create a matrix J by concatenating matrix F and matrix H vertically."
      ],
      "metadata": {
        "id": "hDHL9mJMDyMy"
      }
    },
    {
      "cell_type": "markdown",
      "source": [
        "#Ans(1)"
      ],
      "metadata": {
        "id": "uemAuVMfD-xw"
      }
    },
    {
      "cell_type": "code",
      "source": [
        "import tensorflow as tf\n",
        "\n",
        "# Create a 3x3 matrix with random values from a normal distribution\n",
        "matrix_F = tf.random.uniform(shape=(3,3))\n",
        "\n",
        "# Display the values of matrix F\n",
        "print(matrix_F.numpy())"
      ],
      "metadata": {
        "colab": {
          "base_uri": "https://localhost:8080/"
        },
        "id": "R9n5S6cwELAR",
        "outputId": "76e89d92-05d7-4002-c652-7de8004fdb2c"
      },
      "execution_count": 44,
      "outputs": [
        {
          "output_type": "stream",
          "name": "stdout",
          "text": [
            "[[0.3211447  0.5981405  0.65649116]\n",
            " [0.7640196  0.05673623 0.04946899]\n",
            " [0.08851409 0.519922   0.9530071 ]]\n"
          ]
        }
      ]
    },
    {
      "cell_type": "markdown",
      "source": [
        "#Ans(2)"
      ],
      "metadata": {
        "id": "i1YwXkfGE9uL"
      }
    },
    {
      "cell_type": "code",
      "source": [
        "# doing transopse of matrix_F\n",
        "matrix_G=tf.transpose(matrix_F)\n",
        "#printing the transpose\n",
        "print(matrix_G.numpy)"
      ],
      "metadata": {
        "colab": {
          "base_uri": "https://localhost:8080/"
        },
        "id": "KDHl-FMuFAp0",
        "outputId": "5eb0bd08-c45a-47b0-a69c-e4b497954e17"
      },
      "execution_count": 45,
      "outputs": [
        {
          "output_type": "stream",
          "name": "stdout",
          "text": [
            "<bound method _EagerTensorBase.numpy of <tf.Tensor: shape=(3, 3), dtype=float32, numpy=\n",
            "array([[0.3211447 , 0.7640196 , 0.08851409],\n",
            "       [0.5981405 , 0.05673623, 0.519922  ],\n",
            "       [0.65649116, 0.04946899, 0.9530071 ]], dtype=float32)>>\n"
          ]
        }
      ]
    },
    {
      "cell_type": "markdown",
      "source": [
        "#Ans(3)"
      ],
      "metadata": {
        "id": "-3DS9NyGFdDN"
      }
    },
    {
      "cell_type": "code",
      "source": [
        "# Calculating Element-wise exponent of matrix F\n",
        "matrix_H=tf.exp(matrix_F)\n",
        "#printing the result\n",
        "print(matrix_H.numpy)"
      ],
      "metadata": {
        "colab": {
          "base_uri": "https://localhost:8080/"
        },
        "id": "1yP4_xCUFgo9",
        "outputId": "839d0ebe-f631-4191-c78e-e99f63bcc2de"
      },
      "execution_count": 46,
      "outputs": [
        {
          "output_type": "stream",
          "name": "stdout",
          "text": [
            "<bound method _EagerTensorBase.numpy of <tf.Tensor: shape=(3, 3), dtype=float32, numpy=\n",
            "array([[1.378705 , 1.8187337, 1.9280154],\n",
            "       [2.1468885, 1.0583766, 1.0507131],\n",
            "       [1.0925497, 1.6818964, 2.5934968]], dtype=float32)>>\n"
          ]
        }
      ]
    },
    {
      "cell_type": "markdown",
      "source": [
        "#Ans(4)"
      ],
      "metadata": {
        "id": "8o8l6OcYGGdh"
      }
    },
    {
      "cell_type": "code",
      "source": [
        "# Matrix concatination of matrix_F and matrix_G horizantly\n",
        "matrix_I=tf.concat([matrix_F,matrix_G],axis=1)\n",
        "#printing result\n",
        "print(matrix_I.numpy)"
      ],
      "metadata": {
        "colab": {
          "base_uri": "https://localhost:8080/"
        },
        "id": "MYK41MGFGJ94",
        "outputId": "7d82b278-bb2f-4e19-b936-29c658704a20"
      },
      "execution_count": 47,
      "outputs": [
        {
          "output_type": "stream",
          "name": "stdout",
          "text": [
            "<bound method _EagerTensorBase.numpy of <tf.Tensor: shape=(3, 6), dtype=float32, numpy=\n",
            "array([[0.3211447 , 0.5981405 , 0.65649116, 0.3211447 , 0.7640196 ,\n",
            "        0.08851409],\n",
            "       [0.7640196 , 0.05673623, 0.04946899, 0.5981405 , 0.05673623,\n",
            "        0.519922  ],\n",
            "       [0.08851409, 0.519922  , 0.9530071 , 0.65649116, 0.04946899,\n",
            "        0.9530071 ]], dtype=float32)>>\n"
          ]
        }
      ]
    },
    {
      "cell_type": "markdown",
      "source": [
        "#Ans(5)"
      ],
      "metadata": {
        "id": "xkeJEDryJW_B"
      }
    },
    {
      "cell_type": "code",
      "source": [
        "# Matrix concatination of matrix_F and matrix_G vertically\n",
        "matrix_J=tf.concat([matrix_F,matrix_G],axis=0)\n",
        "#printing result\n",
        "print(matrix_J.numpy)"
      ],
      "metadata": {
        "colab": {
          "base_uri": "https://localhost:8080/"
        },
        "id": "5lorVJ0MJaSL",
        "outputId": "ebef2426-a1c4-4fda-b098-97520c484344"
      },
      "execution_count": 48,
      "outputs": [
        {
          "output_type": "stream",
          "name": "stdout",
          "text": [
            "<bound method _EagerTensorBase.numpy of <tf.Tensor: shape=(6, 3), dtype=float32, numpy=\n",
            "array([[0.3211447 , 0.5981405 , 0.65649116],\n",
            "       [0.7640196 , 0.05673623, 0.04946899],\n",
            "       [0.08851409, 0.519922  , 0.9530071 ],\n",
            "       [0.3211447 , 0.7640196 , 0.08851409],\n",
            "       [0.5981405 , 0.05673623, 0.519922  ],\n",
            "       [0.65649116, 0.04946899, 0.9530071 ]], dtype=float32)>>\n"
          ]
        }
      ]
    }
  ]
}